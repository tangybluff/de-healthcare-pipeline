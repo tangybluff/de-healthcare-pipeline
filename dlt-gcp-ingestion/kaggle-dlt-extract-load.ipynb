{
 "cells": [
  {
   "cell_type": "code",
   "execution_count": 52,
   "id": "5aa5c86b",
   "metadata": {},
   "outputs": [
    {
     "name": "stdout",
     "output_type": "stream",
     "text": [
      "Note: you may need to restart the kernel to use updated packages.\n"
     ]
    }
   ],
   "source": [
    "%pip install --quiet kaggle pandas dlt[bigquery] google-cloud-storage gcsfs google-cloud-bigquery google-cloud-bigquery-storage"
   ]
  },
  {
   "cell_type": "code",
   "execution_count": 53,
   "id": "fd5220a2",
   "metadata": {},
   "outputs": [],
   "source": [
    "import os, zipfile, glob, shutil\n",
    "import pandas as pd\n",
    "import dlt\n",
    "from google.cloud import storage"
   ]
  },
  {
   "cell_type": "code",
   "execution_count": 54,
   "id": "0de742a6",
   "metadata": {},
   "outputs": [
    {
     "name": "stdout",
     "output_type": "stream",
     "text": [
      "Kaggle credentials set up successfully.\n"
     ]
    }
   ],
   "source": [
    "# Create the .kaggle directory if it doesn't exist\n",
    "os.makedirs(os.path.expanduser(\"~/.kaggle\"), exist_ok=True)\n",
    "\n",
    "# Copy your Kaggle credentials to the default location\n",
    "shutil.copy(\"c:/Users/ahmed/Desktop/de-healthcare-pipeline/dlt-gcp-ingestion/kaggle/kaggle.json\", os.path.expanduser(\"~/.kaggle/kaggle.json\"))\n",
    "\n",
    "# Ensure the file has the correct permissions\n",
    "os.chmod(os.path.expanduser(\"~/.kaggle/kaggle.json\"), 0o600)\n",
    "\n",
    "print(\"Kaggle credentials set up successfully.\")"
   ]
  },
  {
   "cell_type": "code",
   "execution_count": 55,
   "id": "55e0e90a",
   "metadata": {},
   "outputs": [
    {
     "name": "stdout",
     "output_type": "stream",
     "text": [
      "GCP credentials set up successfully.\n"
     ]
    }
   ],
   "source": [
    "import os\n",
    "\n",
    "# Set the GOOGLE_APPLICATION_CREDENTIALS environment variable\n",
    "os.environ[\"GOOGLE_APPLICATION_CREDENTIALS\"] = \"c:/Users/ahmed/Desktop/de-healthcare-pipeline/secretkeys/credentials.json\"\n",
    "\n",
    "print(\"GCP credentials set up successfully.\")"
   ]
  },
  {
   "cell_type": "code",
   "execution_count": 56,
   "id": "9a33ab11",
   "metadata": {},
   "outputs": [
    {
     "data": {
      "text/plain": [
       "0"
      ]
     },
     "execution_count": 56,
     "metadata": {},
     "output_type": "execute_result"
    }
   ],
   "source": [
    "# 3. Download from Kaggle into a tmp folder\n",
    "os.makedirs(\"tmp\", exist_ok=True)\n",
    "os.system(\"kaggle datasets download -d meirnizri/covid19-dataset -p tmp --unzip\")"
   ]
  },
  {
   "cell_type": "code",
   "execution_count": 57,
   "id": "812b44e8",
   "metadata": {},
   "outputs": [
    {
     "name": "stdout",
     "output_type": "stream",
     "text": [
      "✅ Downloaded CSV: tmp/covid data.csv\n"
     ]
    }
   ],
   "source": [
    "# 4. Find the CSV in tmp/\n",
    "csv_path = glob.glob(\"tmp/covid data.csv\")[0]\n",
    "print(\"✅ Downloaded CSV:\", csv_path)"
   ]
  },
  {
   "cell_type": "code",
   "execution_count": 58,
   "id": "9f1b9dea",
   "metadata": {},
   "outputs": [
    {
     "name": "stdout",
     "output_type": "stream",
     "text": [
      "✅ BigQuery destination location set to EU successfully.\n"
     ]
    }
   ],
   "source": [
    "import os\n",
    "# This environment variable can be used to change the BigQuery location between US/EU as needed.\n",
    "\n",
    "os.environ[\"DESTINATION__BIGQUERY__LOCATION\"] = \"EU\"\n",
    "\n",
    "print(\"✅ BigQuery destination location set to EU successfully.\")"
   ]
  },
  {
   "cell_type": "code",
   "execution_count": 59,
   "id": "d9beb0bd",
   "metadata": {},
   "outputs": [
    {
     "name": "stdout",
     "output_type": "stream",
     "text": [
      "✅ Uploaded to GCS: gs://covidepidemetrics-bucket/raw/covid19_data.csv\n"
     ]
    }
   ],
   "source": [
    "from google.cloud import storage\n",
    "import os\n",
    "\n",
    "# Set up GCS client\n",
    "os.environ[\"GOOGLE_APPLICATION_CREDENTIALS\"] = \"c:/Users/ahmed/Desktop/de-healthcare-pipeline/secretkeys/credentials.json\"\n",
    "bucket_name = \"covidepidemetrics-bucket\"  # Replace with your GCS bucket name\n",
    "csv_path = \"tmp/covid data.csv\"  # Path to your CSV file\n",
    "gcs_path = \"raw/covid19_data.csv\"  # Path in GCS\n",
    "\n",
    "# Upload CSV to GCS\n",
    "client = storage.Client()\n",
    "bucket = client.bucket(bucket_name)\n",
    "blob = bucket.blob(gcs_path)\n",
    "blob.upload_from_filename(csv_path)\n",
    "\n",
    "print(f\"✅ Uploaded to GCS: gs://{bucket_name}/{gcs_path}\")"
   ]
  },
  {
   "cell_type": "code",
   "execution_count": 60,
   "id": "f4721221",
   "metadata": {},
   "outputs": [],
   "source": [
    "import dlt\n",
    "import pandas as pd\n",
    "\n",
    "@dlt.resource\n",
    "def covid_data_from_gcs():\n",
    "    # Read the CSV file directly from GCS\n",
    "    df = pd.read_csv(f\"gs://{bucket_name}/{gcs_path}\")\n",
    "    for row in df.itertuples(index=False, name=None):\n",
    "        yield dict(zip(df.columns, row))"
   ]
  },
  {
   "cell_type": "code",
   "execution_count": 61,
   "id": "036b7336",
   "metadata": {},
   "outputs": [
    {
     "name": "stdout",
     "output_type": "stream",
     "text": [
      "✅ Data loaded to BigQuery. Pipeline covid_data_pipeline load step completed in 23.56 seconds\n",
      "1 load package(s) were loaded to destination bigquery and into dataset covid19_dataset\n",
      "The bigquery destination used None@covidepidemetrics location to store data\n",
      "Load package 1744988330.987893 is LOADED and contains no failed jobs\n"
     ]
    }
   ],
   "source": [
    "# 7. Create & run the DLT pipeline into your BigQuery dataset\n",
    "pipeline = dlt.pipeline(\n",
    "    pipeline_name=\"covid_data_pipeline\",\n",
    "    destination=\"bigquery\",\n",
    "    dataset_name=\"covid19_dataset\",  # BigQuery dataset name\n",
    "    dev_mode=False  # Disable dev_mode for production-like behavior\n",
    ")\n",
    "\n",
    "# Run the pipeline\n",
    "load_info = pipeline.run(covid_data_from_gcs())\n",
    "print(\"✅ Data loaded to BigQuery.\", load_info)"
   ]
  }
 ],
 "metadata": {
  "kernelspec": {
   "display_name": "Python 3",
   "language": "python",
   "name": "python3"
  },
  "language_info": {
   "codemirror_mode": {
    "name": "ipython",
    "version": 3
   },
   "file_extension": ".py",
   "mimetype": "text/x-python",
   "name": "python",
   "nbconvert_exporter": "python",
   "pygments_lexer": "ipython3",
   "version": "3.12.2"
  }
 },
 "nbformat": 4,
 "nbformat_minor": 5
}
